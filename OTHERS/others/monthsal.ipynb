{
 "cells": [
  {
   "cell_type": "code",
   "execution_count": 35,
   "metadata": {},
   "outputs": [],
   "source": [
    "import pandas as pd"
   ]
  },
  {
   "cell_type": "code",
   "execution_count": 50,
   "metadata": {},
   "outputs": [],
   "source": [
    "df = pd.read_csv(r\"C:\\Users\\hardip thummar\\Desktop\\Book11.csv\")\n",
    "# df = df.astype({'code' : 'object'})\n",
    "# df['month'] = df['month'].astype(str)"
   ]
  },
  {
   "cell_type": "code",
   "execution_count": 37,
   "metadata": {},
   "outputs": [],
   "source": [
    "df2 = pd.read_csv(r\"C:\\Users\\hardip thummar\\Desktop\\Book2.csv\")\n",
    "# df2\n",
    "# df2.loc[df2['month'] == 'Apr', 'amt'].sum()"
   ]
  },
  {
   "cell_type": "code",
   "execution_count": 38,
   "metadata": {},
   "outputs": [],
   "source": [
    "# boolen_series = pd.isnull(df['month'])\n",
    "start = df.loc[pd.isnull(df['month']) == True].head(1).index[0]\n",
    "# start = df.loc[df['month'] == 'nan'].head(1).index[0]\n",
    "# boolen_series"
   ]
  },
  {
   "cell_type": "code",
   "execution_count": 39,
   "metadata": {},
   "outputs": [],
   "source": [
    "# Step 1 : Dictionary from Tot_sal_month\n",
    "total_sal_month = {m : a for (m, a) in zip(df2['month'], df2['amt'])}\n",
    "#for m, a in zip(df2['Month'], df2['Amt']):\n",
    "#    total_sal_month[m] = a"
   ]
  },
  {
   "cell_type": "code",
   "execution_count": 40,
   "metadata": {},
   "outputs": [],
   "source": [
    "# df.loc[df['month'].dropna() == 'Jan']\n",
    "# df.isna().sum()\n",
    "if not len(df['month']) == df['month'].isna().sum():\n",
    "    current_sal = {m : df.loc[df['month'] == m, 'amt'][:start-1].sum() for m in df2['month']}\n",
    "else:\n",
    "    current_sal = {m : 0 for m in df2['month']}    "
   ]
  },
  {
   "cell_type": "code",
   "execution_count": 41,
   "metadata": {},
   "outputs": [],
   "source": [
    "# Step 2 : Dictionary of Current_sal_status \n",
    "# current_sal = {}\n",
    "# current_sal = {m : df.loc[df['month'] == m, 'amt'][:start-1].sum() for m in df2['month']}\n",
    "# for m in df2['month']:\n",
    "#     current_sal[m] = df.loc[df['month'] == m, 'amt'].sum()"
   ]
  },
  {
   "cell_type": "code",
   "execution_count": 42,
   "metadata": {},
   "outputs": [],
   "source": [
    "# Step 3 : Current Empty Slot\n",
    "current_status = [True if current_sal[key] > total_sal_month[key] \n",
    "                  else False \n",
    "                  for key in total_sal_month.keys()]\n",
    "#for key in total_sal_month.keys():\n",
    "#    if current_sal[key] > total_sal_month[key]:\n",
    "#        current_status.append(True)\n",
    "#    else:\n",
    "#        current_status.append(False)"
   ]
  },
  {
   "cell_type": "code",
   "execution_count": 43,
   "metadata": {},
   "outputs": [],
   "source": [
    "# Step 4 : Index Dictionary\n",
    "index_value = [(i, m) for (i, m) in zip(df2.index, df2['month'])]\n",
    "index_value_2 = [(m, i) for (i, m) in zip(df2.index, df2['month'])]\n",
    "\n",
    "index_value.extend(index_value_2)\n",
    "\n",
    "index_dict = {a : b for a,b in index_value}"
   ]
  },
  {
   "cell_type": "code",
   "execution_count": 44,
   "metadata": {},
   "outputs": [],
   "source": [
    "for a in df[start:].itertuples():\n",
    "    index = a[0]\n",
    "    rdf = df.loc[ :index]\n",
    "    last_found_month = rdf.loc[rdf['code'] == df.loc[index, 'code'], 'month'].tail(2).head(1)\n",
    "    current_index_sal = df.at[index, 'amt']\n",
    "    if index == 0:\n",
    "        df.at[index, 'month'] = str\n",
    "        df.at[index, 'month'] = index_dict[current_status.index(False)]\n",
    "        current_sal[df.at[index, 'month']] += current_index_sal\n",
    "    else:\n",
    "        if not pd.isnull(last_found_month.iloc[0]):\n",
    "            last_found_month = last_found_month.iloc[0]\n",
    "            check_from_month_index = index_dict[index_dict[index_dict[last_found_month] + 1]]\n",
    "            current_index_month = index_dict[current_status[check_from_month_index : ].index(False) + check_from_month_index]\n",
    "            df.at[index, 'month'] = current_index_month\n",
    "            current_sal[df.at[index, 'month']] += current_index_sal\n",
    "            if current_sal[current_index_month] > total_sal_month[current_index_month]:\n",
    "                current_status[index_dict[current_index_month]] = True\n",
    "        else:\n",
    "            current_index_month = index_dict[current_status.index(False)]\n",
    "            df.at[index, 'month'] = current_index_month\n",
    "            current_sal[df.at[index, 'month']] += current_index_sal\n",
    "            if current_sal[current_index_month] > total_sal_month[current_index_month]:\n",
    "                current_status[index_dict[current_index_month]] = True\n",
    "       \n",
    "    "
   ]
  },
  {
   "cell_type": "code",
   "execution_count": 45,
   "metadata": {},
   "outputs": [],
   "source": [
    "df2['current_salary'] = current_sal.values()"
   ]
  },
  {
   "cell_type": "code",
   "execution_count": 46,
   "metadata": {},
   "outputs": [],
   "source": [
    "df.to_csv(r\"C:\\Users\\hardip thummar\\Desktop\\Book11.csv\", index = False)\n",
    "df2.to_csv(r\"C:\\Users\\hardip thummar\\Desktop\\Book2.csv\", index = False)"
   ]
  }
 ],
 "metadata": {
  "kernelspec": {
   "display_name": "Python 3",
   "language": "python",
   "name": "python3"
  },
  "language_info": {
   "codemirror_mode": {
    "name": "ipython",
    "version": 3
   },
   "file_extension": ".py",
   "mimetype": "text/x-python",
   "name": "python",
   "nbconvert_exporter": "python",
   "pygments_lexer": "ipython3",
   "version": "3.6.5"
  }
 },
 "nbformat": 4,
 "nbformat_minor": 2
}
