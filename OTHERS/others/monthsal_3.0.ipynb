{
 "cells": [
  {
   "cell_type": "code",
   "execution_count": 1,
   "metadata": {},
   "outputs": [],
   "source": [
    "import pandas as pd"
   ]
  },
  {
   "cell_type": "code",
   "execution_count": 2,
   "metadata": {},
   "outputs": [],
   "source": [
    "df = pd.read_csv(r\"C:\\Users\\hardip thummar\\Desktop\\Book11.csv\")"
   ]
  },
  {
   "cell_type": "code",
   "execution_count": 3,
   "metadata": {},
   "outputs": [],
   "source": [
    "df2 = pd.read_csv(r\"C:\\Users\\hardip thummar\\Desktop\\Book2.csv\")"
   ]
  },
  {
   "cell_type": "code",
   "execution_count": 4,
   "metadata": {},
   "outputs": [],
   "source": [
    "null_df = df.loc[pd.isnull(df['month']) == True]     # seperate dataframe of month column to be updated and month that\n",
    "alloted_df = df.loc[pd.isnull(df['month']) == False]  # already has been updated"
   ]
  },
  {
   "cell_type": "code",
   "execution_count": 5,
   "metadata": {},
   "outputs": [],
   "source": [
    "total_sal_month = {m : a for (m, a) in zip(df2['month'], df2['amt'])}     # create dictionary to total salary of month"
   ]
  },
  {
   "cell_type": "code",
   "execution_count": 6,
   "metadata": {},
   "outputs": [],
   "source": [
    "# create dictionary of total alloted salary of respective month\n",
    "if not len(df['month']) == df['month'].isna().sum():\n",
    "    current_sal = {m : alloted_df.loc[df['month'] == m, 'amt'].sum() for m in df2['month']}\n",
    "else:\n",
    "    current_sal = {m : 0 for m in df2['month']}"
   ]
  },
  {
   "cell_type": "code",
   "execution_count": 7,
   "metadata": {},
   "outputs": [],
   "source": [
    "# Update status of month , True if full else False\n",
    "current_status = [True if current_sal[key] > total_sal_month[key] \n",
    "                  else False \n",
    "                  for key in total_sal_month.keys()]"
   ]
  },
  {
   "cell_type": "code",
   "execution_count": 8,
   "metadata": {},
   "outputs": [],
   "source": [
    "# create dictionary of (index_value, month) and (month, index_value)\n",
    "index_value = [(i, m) for (i, m) in zip(df2.index, df2['month'])]\n",
    "index_value_2 = [(m, i) for (i, m) in zip(df2.index, df2['month'])]\n",
    "\n",
    "index_value.extend(index_value_2)\n",
    "\n",
    "index_dict = {a : b for a,b in index_value}"
   ]
  },
  {
   "cell_type": "code",
   "execution_count": 9,
   "metadata": {},
   "outputs": [],
   "source": [
    "def assign_and_update():\n",
    "    ''' Assigning month and update total salary and check if it is full '''\n",
    "    df.at[index, 'month'] = current_index_month   # assign month to current index\n",
    "    current_sal[df.at[index, 'month']] += current_index_sal    # update total salary\n",
    "    if current_sal[current_index_month] > total_sal_month[current_index_month]:   # check if it is full\n",
    "        current_status[index_dict[current_index_month]] = True"
   ]
  },
  {
   "cell_type": "code",
   "execution_count": 10,
   "metadata": {},
   "outputs": [],
   "source": [
    "for a in null_df.itertuples():             # iterate over dataframe of month to be updated\n",
    "    index = a[0]                           # assign index_value to index\n",
    "    last_found_month = df[: index + 1].loc[df['code'] == df.loc[index, 'code'], 'month'].tail(2).head(1)  # search for last found month of a/c no.\n",
    "    current_index_sal = null_df.at[index, 'amt']              # assign salary amount to current_index_sal\n",
    "    if index == 0:\n",
    "        df.at[index, 'month'] = str\n",
    "        df.at[index, 'month'] = index_dict[current_status.index(False)]    # search for first available empty month\n",
    "        current_sal[df.at[index, 'month']] += current_index_sal            # update total salary of that month by current salary\n",
    "    else:\n",
    "        if not pd.isnull(last_found_month.iloc[0]):         # if last month found\n",
    "            last_found_month = last_found_month.iloc[0]\n",
    "            check_from_month_index = index_dict[index_dict[index_dict[last_found_month] + 1]]\n",
    "            current_index_month = index_dict[current_status[check_from_month_index : ].index(False) + check_from_month_index]\n",
    "            assign_and_update()\n",
    "        else:      # if last month not found\n",
    "            current_index_month = index_dict[current_status.index(False)]\n",
    "            assign_and_update()"
   ]
  },
  {
   "cell_type": "code",
   "execution_count": 11,
   "metadata": {},
   "outputs": [],
   "source": [
    "df2['current_salary'] = current_sal.values()"
   ]
  },
  {
   "cell_type": "code",
   "execution_count": 12,
   "metadata": {},
   "outputs": [],
   "source": [
    "df.to_csv(r\"C:\\Users\\hardip thummar\\Desktop\\Book11.csv\", index = False)\n",
    "df2.to_csv(r\"C:\\Users\\hardip thummar\\Desktop\\Book2.csv\", index = False)"
   ]
  }
 ],
 "metadata": {
  "kernelspec": {
   "display_name": "Python 3",
   "language": "python",
   "name": "python3"
  },
  "language_info": {
   "codemirror_mode": {
    "name": "ipython",
    "version": 3
   },
   "file_extension": ".py",
   "mimetype": "text/x-python",
   "name": "python",
   "nbconvert_exporter": "python",
   "pygments_lexer": "ipython3",
   "version": "3.6.5"
  }
 },
 "nbformat": 4,
 "nbformat_minor": 2
}
