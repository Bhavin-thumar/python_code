{
 "cells": [
  {
   "cell_type": "code",
   "execution_count": 1,
   "metadata": {},
   "outputs": [],
   "source": [
    "dict1to19 = {0 : '',\n",
    "\t\t\t1 : 'One',\n",
    "\t\t\t2 : 'Two',\n",
    "\t\t\t3 : 'Three',\n",
    "\t\t\t4 : 'Four',\n",
    "\t\t\t5 : 'Five',\n",
    "\t\t\t6 : 'Six',\n",
    "\t\t\t7 : 'Seven',\n",
    "\t\t\t8 : 'Eight',\n",
    "\t\t\t9 : 'Nine' ,\n",
    "            10 : 'Ten',\n",
    "\t\t\t11 : 'Eleven',\n",
    "\t\t\t12 : 'Twelve',\n",
    "\t\t\t13 : 'Thirteen',\n",
    "\t\t\t14 : 'Fourteen',\n",
    "\t\t\t15 : 'Fifteen',\n",
    "\t\t\t16 : 'Sixteen',\n",
    "\t\t\t17 : 'Seventeen',\n",
    "\t\t\t18 : 'Eighteen',\n",
    "\t\t\t19 : 'Nineteen'}\n",
    "\n",
    "dictfrom20 = {\n",
    "            0 : '',\n",
    "            2 : 'Twenty',\n",
    "\t\t\t3 : 'Thirty',\n",
    "\t\t\t4 : 'Forty',\n",
    "\t\t\t5 : 'Fifty',\n",
    "\t\t\t6 : 'Sixty',\n",
    "\t\t\t7 : 'Seventy',\n",
    "\t\t\t8 : 'Eighty',\n",
    "\t\t\t9 : 'Ninety'\n",
    "}\n",
    "\n",
    "dict_divisor = {\n",
    "    10 : '',\n",
    "    100 : 'hundred',\n",
    "    1000 : 'thousand',\n",
    "    100000 : 'lac',\n",
    "    10000000 : 'crore',\n",
    "    1000000000 : 'arab',\n",
    "    100000000000 : 'kharab'\n",
    "}\n",
    "\n",
    "divisor_list = list(dict_divisor.keys())\n",
    "\n",
    "def length(n):\n",
    "    mydict = {\n",
    "        1 : 1,\n",
    "        2 : 1,\n",
    "        3 : 2,\n",
    "        4 : 3,\n",
    "        5 : 3,\n",
    "        6 : 4,\n",
    "        7 : 4,\n",
    "        8 : 5,\n",
    "        9 : 5,\n",
    "        10 : 6,\n",
    "        11 : 6,\n",
    "        12 : 7,\n",
    "        13 : 7,\n",
    "        14 : 8,\n",
    "        15 : 8\n",
    "    }\n",
    "    result = mydict[len(str(n))]\n",
    "    return result"
   ]
  },
  {
   "cell_type": "code",
   "execution_count": 5,
   "metadata": {},
   "outputs": [],
   "source": [
    "def number_name(num):\n",
    "    name_list = []\n",
    "    number = num\n",
    "    get_length = length(number)\n",
    "    for divisor in reversed(divisor_list[: get_length]):\n",
    "\n",
    "        quotient = number // divisor\n",
    "\n",
    "        if quotient > 19 and divisor != 100 and divisor != 10:\n",
    "            tenth_place_digit = quotient // 10\n",
    "            unit_place_digit = quotient % 10\n",
    "            name_list.append(dictfrom20[tenth_place_digit])\n",
    "            name_list.append(dict1to19[unit_place_digit])\n",
    "            name_list.append(dict_divisor[divisor])\n",
    "\n",
    "        else:\n",
    "            if quotient <= 19 and divisor != 10:\n",
    "                name_list.append(dict1to19[quotient])\n",
    "                if quotient != 0:\n",
    "                    name_list.append(dict_divisor[divisor])\n",
    "                    \n",
    "        if divisor == 10:\n",
    "            if number > 19:\n",
    "                tenth_place_digit = number // 10\n",
    "                unit_place_digit = number % 10\n",
    "                name_list.append(dictfrom20[tenth_place_digit])\n",
    "                if unit_place_digit != 0:\n",
    "                    name_list.append(dict1to19[unit_place_digit])\n",
    "            else:\n",
    "                name_list.append(dict1to19[number])\n",
    "        \n",
    "        number = number - (quotient * divisor)\n",
    "        \n",
    "        if number == 0:\n",
    "            break\n",
    "\n",
    "    return ' '.join(name_list)"
   ]
  },
  {
   "cell_type": "code",
   "execution_count": 7,
   "metadata": {},
   "outputs": [],
   "source": [
    "def write_number_name(start, end):\n",
    "    with open(r'C:\\Users\\hardip thummar\\Desktop\\number_name.txt', 'w') as f:\n",
    "        for num in range(start, end + 1):\n",
    "            line = f'{num}-{number_name(num)}\\n'\n",
    "            f.write(f'{line}')\n",
    "    return 'Done'"
   ]
  },
  {
   "cell_type": "code",
   "execution_count": 9,
   "metadata": {},
   "outputs": [
    {
     "data": {
      "text/plain": [
       "'Done'"
      ]
     },
     "execution_count": 9,
     "metadata": {},
     "output_type": "execute_result"
    }
   ],
   "source": [
    "write_number_name(105, 200)"
   ]
  },
  {
   "cell_type": "code",
   "execution_count": null,
   "metadata": {},
   "outputs": [],
   "source": []
  }
 ],
 "metadata": {
  "kernelspec": {
   "display_name": "Python 3",
   "language": "python",
   "name": "python3"
  },
  "language_info": {
   "codemirror_mode": {
    "name": "ipython",
    "version": 3
   },
   "file_extension": ".py",
   "mimetype": "text/x-python",
   "name": "python",
   "nbconvert_exporter": "python",
   "pygments_lexer": "ipython3",
   "version": "3.6.5"
  }
 },
 "nbformat": 4,
 "nbformat_minor": 2
}
