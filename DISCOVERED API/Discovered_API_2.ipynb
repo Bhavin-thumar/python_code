{
 "cells": [
  {
   "cell_type": "code",
   "execution_count": 1,
   "metadata": {},
   "outputs": [],
   "source": [
    "import requests"
   ]
  },
  {
   "cell_type": "code",
   "execution_count": null,
   "metadata": {},
   "outputs": [],
   "source": [
    "for i in range(1,102,10):\n",
    "    url = f'https://lecturenotes.in/material/v2/10913/page-{i}?noOfItems=10'\n",
    "    r = requests.get(url)\n",
    "    for page in r.json()['page']:\n",
    "        jpg_url = r'http://lecturenotes.in'+ page['path']\n",
    "        jpg_request = requests.get(jpg_url)\n",
    "        save_path = r'C:\\Users\\hardip thummar\\Desktop\\New folder\\test_{}.jpg'.format(page['pageNum'])\n",
    "        with open(save_path,'wb') as f:\n",
    "            f.write(jpg_request.content)"
   ]
  },
  {
   "cell_type": "code",
   "execution_count": null,
   "metadata": {},
   "outputs": [],
   "source": []
  }
 ],
 "metadata": {
  "kernelspec": {
   "display_name": "Python 3",
   "language": "python",
   "name": "python3"
  },
  "language_info": {
   "codemirror_mode": {
    "name": "ipython",
    "version": 3
   },
   "file_extension": ".py",
   "mimetype": "text/x-python",
   "name": "python",
   "nbconvert_exporter": "python",
   "pygments_lexer": "ipython3",
   "version": "3.6.5"
  }
 },
 "nbformat": 4,
 "nbformat_minor": 2
}
