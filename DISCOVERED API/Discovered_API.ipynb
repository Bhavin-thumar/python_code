{
 "cells": [
  {
   "cell_type": "code",
   "execution_count": 75,
   "metadata": {},
   "outputs": [],
   "source": [
    "import requests, time"
   ]
  },
  {
   "cell_type": "code",
   "execution_count": 79,
   "metadata": {},
   "outputs": [],
   "source": [
    "code = \"\"\"\n",
    "num = input()\n",
    "print(num)\n",
    "\"\"\"\n",
    "\n",
    "main_data = {'lang': 'Python3',\n",
    "        'code': code,\n",
    "        'input' : 'hello world how are you i m fine',\n",
    "        'save': False}\n",
    "main_url = r'https://ide.geeksforgeeks.org/main.php'\n",
    "r = requests.post(main_url, data = main_data)\n",
    "\n",
    "submission_url = r'https://ide.geeksforgeeks.org/submissionResult.php'\n",
    "submission_data = {'sid' : r.json()['sid'],\n",
    "       'requestType' : 'fetchResults'}\n",
    "\n",
    "submission_request = requests.post(submission_url, data = submission_data)"
   ]
  },
  {
   "cell_type": "code",
   "execution_count": 84,
   "metadata": {},
   "outputs": [],
   "source": [
    "while submission_request.json()['status'] == 'IN-QUEUE':\n",
    "    submission_request = requests.post(submission_url, data = submission_data)\n",
    "    time.sleep(1)\n",
    "    \n",
    "submission_request.json()\n",
    "\n"
   ]
  }
 ],
 "metadata": {
  "kernelspec": {
   "display_name": "Python 3",
   "language": "python",
   "name": "python3"
  },
  "language_info": {
   "codemirror_mode": {
    "name": "ipython",
    "version": 3
   },
   "file_extension": ".py",
   "mimetype": "text/x-python",
   "name": "python",
   "nbconvert_exporter": "python",
   "pygments_lexer": "ipython3",
   "version": "3.6.5"
  }
 },
 "nbformat": 4,
 "nbformat_minor": 2
}
