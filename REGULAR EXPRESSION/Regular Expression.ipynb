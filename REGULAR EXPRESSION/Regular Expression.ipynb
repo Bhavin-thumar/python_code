{
 "cells": [
  {
   "cell_type": "code",
   "execution_count": 1,
   "metadata": {},
   "outputs": [],
   "source": [
    "import re"
   ]
  },
  {
   "cell_type": "markdown",
   "metadata": {},
   "source": [
    "### Regular Expression\n",
    "### search and match method\n"
   ]
  },
  {
   "cell_type": "code",
   "execution_count": 37,
   "metadata": {},
   "outputs": [
    {
     "data": {
      "text/plain": [
       "<_sre.SRE_Match object; span=(8, 9), match='n'>"
      ]
     },
     "execution_count": 37,
     "metadata": {},
     "output_type": "execute_result"
    }
   ],
   "source": [
    "# syntax of search method = re.search(pattern, string_to_search) and it returns\n",
    "# match object with group,start and end methods to get info of search\n",
    "# search method search exact pattern in any position of string\n",
    "# Returns None if no search found\n",
    "re.search('n', 'djfdfdaen')"
   ]
  },
  {
   "cell_type": "code",
   "execution_count": 35,
   "metadata": {},
   "outputs": [
    {
     "data": {
      "text/plain": [
       "['d', ' ', '.', '_', ',', 'e', '-', '(', '*', '&', '^', '%', '#', '@', '!']"
      ]
     },
     "execution_count": 35,
     "metadata": {},
     "output_type": "execute_result"
    }
   ],
   "source": [
    "# findall method returns all search object in list\n",
    "re.findall('.', 'd ._,e\\n-(*&^%#@!') # '.' pattern search all characters except \\n"
   ]
  },
  {
   "cell_type": "code",
   "execution_count": 34,
   "metadata": {},
   "outputs": [
    {
     "data": {
      "text/plain": [
       "['\\n', '\\n', '\\n']"
      ]
     },
     "execution_count": 34,
     "metadata": {},
     "output_type": "execute_result"
    }
   ],
   "source": [
    "re.findall('\\n', '\\n\\n \\n')"
   ]
  },
  {
   "cell_type": "markdown",
   "metadata": {},
   "source": [
    "### Literal searching"
   ]
  },
  {
   "cell_type": "code",
   "execution_count": 45,
   "metadata": {},
   "outputs": [
    {
     "data": {
      "text/plain": [
       "<_sre.SRE_Match object; span=(0, 1), match='a'>"
      ]
     },
     "execution_count": 45,
     "metadata": {},
     "output_type": "execute_result"
    }
   ],
   "source": [
    "re.search('n|a', 'agfgneio') # | character use for 'or' i.e n or a\n",
    "                            # Can use as many | charcacter"
   ]
  },
  {
   "cell_type": "markdown",
   "metadata": {},
   "source": [
    "### Character Set"
   ]
  },
  {
   "cell_type": "code",
   "execution_count": 50,
   "metadata": {},
   "outputs": [
    {
     "data": {
      "text/plain": [
       "['abc_', 'abcd']"
      ]
     },
     "execution_count": 50,
     "metadata": {},
     "output_type": "execute_result"
    }
   ],
   "source": [
    "# Character set search set of characters\n",
    "# \\w matches alpha numeric characters[a-zA-Z0-9_]\n",
    "re.findall('\\w\\w\\w\\w', 'abc_efn abcd')"
   ]
  },
  {
   "cell_type": "code",
   "execution_count": 140,
   "metadata": {},
   "outputs": [
    {
     "data": {
      "text/plain": [
       "[]"
      ]
     },
     "execution_count": 140,
     "metadata": {},
     "output_type": "execute_result"
    }
   ],
   "source": [
    "re.findall('\\w\\w\\w', '......a3.!-!')  # returns "
   ]
  },
  {
   "cell_type": "code",
   "execution_count": 52,
   "metadata": {},
   "outputs": [
    {
     "data": {
      "text/plain": [
       "['a3.']"
      ]
     },
     "execution_count": 52,
     "metadata": {},
     "output_type": "execute_result"
    }
   ],
   "source": [
    "# \\W is opposite of \\w , so nothing of [a-zA-Z0-9_]\n",
    "re.findall('\\w\\w\\W', 'a3.!-!')"
   ]
  },
  {
   "cell_type": "markdown",
   "metadata": {},
   "source": [
    "### Quantifiers"
   ]
  },
  {
   "cell_type": "code",
   "execution_count": null,
   "metadata": {},
   "outputs": [],
   "source": [
    "# Quantifiers\n",
    "\"\"\"\n",
    "'+'   = 1 or more\n",
    "'?'   = 0 or 1\n",
    "'*'   = 0 or more\n",
    "'{n,m}'   =  n to m repetition {n, } {, m}\n",
    "\"\"\"\n"
   ]
  },
  {
   "cell_type": "code",
   "execution_count": 141,
   "metadata": {},
   "outputs": [
    {
     "data": {
      "text/plain": [
       "['abcde', 'fnc', 'abcd']"
      ]
     },
     "execution_count": 141,
     "metadata": {},
     "output_type": "execute_result"
    }
   ],
   "source": [
    "re.findall('\\w+', 'abcde.fnc abcd')"
   ]
  },
  {
   "cell_type": "code",
   "execution_count": 213,
   "metadata": {},
   "outputs": [
    {
     "data": {
      "text/plain": [
       "['abcdef    nabcd']"
      ]
     },
     "execution_count": 213,
     "metadata": {},
     "output_type": "execute_result"
    }
   ],
   "source": [
    "re.findall('\\w+\\W+\\w+', '--.abcdef    nabcd')"
   ]
  },
  {
   "cell_type": "code",
   "execution_count": 166,
   "metadata": {},
   "outputs": [
    {
     "data": {
      "text/plain": [
       "['ab']"
      ]
     },
     "execution_count": 166,
     "metadata": {},
     "output_type": "execute_result"
    }
   ],
   "source": [
    "re.findall('\\w+', 'ab...')"
   ]
  },
  {
   "cell_type": "code",
   "execution_count": 158,
   "metadata": {},
   "outputs": [
    {
     "data": {
      "text/plain": [
       "['ab.']"
      ]
     },
     "execution_count": 158,
     "metadata": {},
     "output_type": "execute_result"
    }
   ],
   "source": [
    "re.findall('\\w+\\W?', 'ab...')"
   ]
  },
  {
   "cell_type": "code",
   "execution_count": 206,
   "metadata": {},
   "outputs": [
    {
     "data": {
      "text/plain": [
       "['ab']"
      ]
     },
     "execution_count": 206,
     "metadata": {},
     "output_type": "execute_result"
    }
   ],
   "source": [
    "re.findall('\\w+\\W?\\w+', 'ab.........')"
   ]
  },
  {
   "cell_type": "code",
   "execution_count": 211,
   "metadata": {},
   "outputs": [
    {
     "data": {
      "text/plain": [
       "['abcdfdf.']"
      ]
     },
     "execution_count": 211,
     "metadata": {},
     "output_type": "execute_result"
    }
   ],
   "source": [
    "re.findall('\\w+\\W?\\w+\\W?', 'abcdfdf...')"
   ]
  },
  {
   "cell_type": "code",
   "execution_count": 215,
   "metadata": {},
   "outputs": [
    {
     "data": {
      "text/plain": [
       "['aaa', 'aaa', 'aaa', 'aaa', 'aaa']"
      ]
     },
     "execution_count": 215,
     "metadata": {},
     "output_type": "execute_result"
    }
   ],
   "source": [
    "re.findall('\\w{3}', 'aaaaaaaaaaaaaaaa')  # 'aaa'"
   ]
  },
  {
   "cell_type": "code",
   "execution_count": 238,
   "metadata": {},
   "outputs": [
    {
     "data": {
      "text/plain": [
       "['aaaa', 'aaa']"
      ]
     },
     "execution_count": 238,
     "metadata": {},
     "output_type": "execute_result"
    }
   ],
   "source": [
    "re.findall('\\w{1,4}', 'aaaaaaa')  # pull out max of \\w i.e 4 'aaaa' and then 3 and 2 and then 1,\n",
    "                                # its called greedy nature"
   ]
  },
  {
   "cell_type": "code",
   "execution_count": 243,
   "metadata": {},
   "outputs": [
    {
     "data": {
      "text/plain": [
       "['aa', 'aa', 'aa']"
      ]
     },
     "execution_count": 243,
     "metadata": {},
     "output_type": "execute_result"
    }
   ],
   "source": [
    "re.findall('\\w{2,4}?', 'aaaaaaa') # by adding '?' it becomes non greedy. i.e 'aa'"
   ]
  },
  {
   "cell_type": "code",
   "execution_count": 4,
   "metadata": {},
   "outputs": [
    {
     "name": "stdout",
     "output_type": "stream",
     "text": [
      "<_sre.SRE_Match object; span=(10, 12), match='ed'>\n",
      "<_sre.SRE_Match object; span=(20, 22), match='ed'>\n"
     ]
    }
   ],
   "source": [
    "text = 'an the baked beans, ed '\n",
    "matches = re.finditer('ed', text)\n",
    "for match in matches:\n",
    "    print(match)"
   ]
  },
  {
   "cell_type": "code",
   "execution_count": 12,
   "metadata": {},
   "outputs": [],
   "source": [
    "pattern = re.compile(r'\\b(ed)\\b')\n",
    "matches = re.search(pattern, text)"
   ]
  },
  {
   "cell_type": "code",
   "execution_count": 13,
   "metadata": {},
   "outputs": [
    {
     "name": "stdout",
     "output_type": "stream",
     "text": [
      "<_sre.SRE_Match object; span=(20, 22), match='ed'>\n"
     ]
    }
   ],
   "source": [
    "print(matches)"
   ]
  },
  {
   "cell_type": "code",
   "execution_count": 40,
   "metadata": {},
   "outputs": [
    {
     "data": {
      "text/plain": [
       "<_sre.SRE_Match object; span=(9, 16), match='the the'>"
      ]
     },
     "execution_count": 40,
     "metadata": {},
     "output_type": "execute_result"
    }
   ],
   "source": [
    "# matching consecutive repetitive words. \\b includes '.' and '()' characters.\n",
    "string = 'Paris in the the spring'\n",
    "pattern = re.compile(r'\\b(\\w+)\\s\\1\\b')\n",
    "matches = re.search(pattern, string)\n",
    "matches"
   ]
  },
  {
   "cell_type": "code",
   "execution_count": 39,
   "metadata": {},
   "outputs": [
    {
     "data": {
      "text/plain": [
       "<_sre.SRE_Match object; span=(5, 8), match='foo'>"
      ]
     },
     "execution_count": 39,
     "metadata": {},
     "output_type": "execute_result"
    }
   ],
   "source": [
    "string = 'bar (foo.)'\n",
    "pattern = re.compile(r'\\bfoo\\b')\n",
    "matches = re.search(pattern, string)\n",
    "matches"
   ]
  },
  {
   "cell_type": "code",
   "execution_count": 48,
   "metadata": {},
   "outputs": [
    {
     "data": {
      "text/plain": [
       "['1', '2', '3', '4', '5']"
      ]
     },
     "execution_count": 48,
     "metadata": {},
     "output_type": "execute_result"
    }
   ],
   "source": [
    "string = '1,2,3,4,5'\n",
    "pattern = re.compile(r'\\d')\n",
    "matches = re.findall(pattern, string)\n",
    "matches"
   ]
  },
  {
   "cell_type": "code",
   "execution_count": 55,
   "metadata": {},
   "outputs": [
    {
     "data": {
      "text/plain": [
       "<_sre.SRE_Match object; span=(16, 19), match='$15'>"
      ]
     },
     "execution_count": 55,
     "metadata": {},
     "output_type": "execute_result"
    }
   ],
   "source": [
    "txt = 'This book costs $15.'\n",
    "pattern = re.compile(r'\\$15')\n",
    "matches = re.search(pattern, txt)\n",
    "matches"
   ]
  },
  {
   "cell_type": "code",
   "execution_count": 58,
   "metadata": {},
   "outputs": [
    {
     "data": {
      "text/plain": [
       "<_sre.SRE_Match object; span=(34, 53), match='C:\\\\Windows\\\\System32'>"
      ]
     },
     "execution_count": 58,
     "metadata": {},
     "output_type": "execute_result"
    }
   ],
   "source": [
    "txt = \"\"\"\n",
    "    C:\\Windows\n",
    "    C:\\Python\n",
    "    C:\\Windows\\System32\n",
    "    \"\"\"\n",
    "pattern = re.compile(r'C:\\\\Windows\\\\System32')\n",
    "matches = re.search(pattern, txt)\n",
    "matches"
   ]
  },
  {
   "cell_type": "code",
   "execution_count": 73,
   "metadata": {},
   "outputs": [],
   "source": [
    "txt = \"\"\"\n",
    "Yesterday, I was driving my car without a driving licence. The traffic police stopped me and asked for \n",
    "my license. I told them that I forgot my licence at home.\n",
    "\"\"\""
   ]
  },
  {
   "cell_type": "code",
   "execution_count": 74,
   "metadata": {},
   "outputs": [
    {
     "name": "stdout",
     "output_type": "stream",
     "text": [
      "<_sre.SRE_Match object; span=(51, 58), match='licence'>\n",
      "<_sre.SRE_Match object; span=(108, 115), match='license'>\n",
      "<_sre.SRE_Match object; span=(146, 153), match='licence'>\n"
     ]
    }
   ],
   "source": [
    "pattern = re.compile(r'\\blicen[cs]e\\b')\n",
    "matches = re.finditer(pattern, txt)\n",
    "for match in matches:\n",
    "    print(match)"
   ]
  },
  {
   "cell_type": "code",
   "execution_count": 68,
   "metadata": {},
   "outputs": [],
   "source": [
    "txt = \"\"\"\n",
    "The first season of Indian Premiere League (IPL) was played in 2008.\n",
    "The second season was playes in 2009 in South Africa.\n",
    "Last season was played in 2018 and won by Chennai Super Kings (CSK).\n",
    "CSK won the title in 2010 and 2011 as well.\n",
    "Mumbai Indians (MI) has also won the title 3 times in 2013, 2015 and 2017.\n",
    "\"\"\""
   ]
  },
  {
   "cell_type": "code",
   "execution_count": 70,
   "metadata": {},
   "outputs": [
    {
     "name": "stdout",
     "output_type": "stream",
     "text": [
      "<_sre.SRE_Match object; span=(64, 68), match='2008'>\n",
      "<_sre.SRE_Match object; span=(102, 106), match='2009'>\n",
      "<_sre.SRE_Match object; span=(150, 154), match='2018'>\n",
      "<_sre.SRE_Match object; span=(214, 218), match='2010'>\n",
      "<_sre.SRE_Match object; span=(223, 227), match='2011'>\n",
      "<_sre.SRE_Match object; span=(291, 295), match='2013'>\n",
      "<_sre.SRE_Match object; span=(297, 301), match='2015'>\n",
      "<_sre.SRE_Match object; span=(306, 310), match='2017'>\n"
     ]
    }
   ],
   "source": [
    "pattern = re.compile(r'\\d\\d\\d\\d')\n",
    "matches = re.finditer(pattern, txt)\n",
    "for match in matches:\n",
    "    print(match)"
   ]
  },
  {
   "cell_type": "code",
   "execution_count": 75,
   "metadata": {},
   "outputs": [],
   "source": [
    "txt = \"\"\"\n",
    "What is your name?\n",
    "Who is that guy?\n",
    "\"\"\""
   ]
  },
  {
   "cell_type": "code",
   "execution_count": 83,
   "metadata": {},
   "outputs": [
    {
     "name": "stdout",
     "output_type": "stream",
     "text": [
      "<_sre.SRE_Match object; span=(1, 8), match='What is'>\n",
      "<_sre.SRE_Match object; span=(20, 26), match='Who is'>\n"
     ]
    }
   ],
   "source": [
    "pattern = re.compile(r\"(What|Who)\\sis\")\n",
    "matches = re.finditer(pattern, txt)\n",
    "for match in matches:\n",
    "    print(match)"
   ]
  },
  {
   "cell_type": "code",
   "execution_count": 5,
   "metadata": {},
   "outputs": [
    {
     "name": "stdout",
     "output_type": "stream",
     "text": [
      "<_sre.SRE_Match object; span=(0, 4), match='the1'>\n"
     ]
    }
   ],
   "source": [
    "txt = 'the1 one is most2222'\n",
    "pattern = re.compile(r'\\b[a-z]+[0-9]\\b')\n",
    "matches = re.finditer(pattern, txt)\n",
    "for match in matches:\n",
    "    print(match)"
   ]
  },
  {
   "cell_type": "code",
   "execution_count": 7,
   "metadata": {},
   "outputs": [],
   "source": [
    "pattern = re.compile(r'\\b(or|the|and)\\b') # matches 'or','the','and' "
   ]
  },
  {
   "cell_type": "code",
   "execution_count": 17,
   "metadata": {},
   "outputs": [
    {
     "name": "stdout",
     "output_type": "stream",
     "text": [
      "<_sre.SRE_Match object; span=(1, 7), match='Name :'>\n",
      "<_sre.SRE_Match object; span=(16, 27), match='Name : Ravi'>\n",
      "<_sre.SRE_Match object; span=(62, 72), match='Name : Ram'>\n"
     ]
    }
   ],
   "source": [
    "txt = \"\"\"\n",
    "Name :\n",
    "Age : 0\n",
    "Name : Ravi\n",
    "Age : -1\n",
    "Roll no : 123 Name : ABC\n",
    "Name : Ram\n",
    "Age : n/a\n",
    "Roll no : 1\n",
    "\n",
    "\"\"\"\n",
    "pattern = re.compile(r'^Name :.*', flags = re.M)\n",
    "matches = re.finditer(pattern, txt)\n",
    "for match in matches:\n",
    "    print(match)"
   ]
  },
  {
   "cell_type": "code",
   "execution_count": 8,
   "metadata": {},
   "outputs": [
    {
     "name": "stdout",
     "output_type": "stream",
     "text": [
      "<_sre.SRE_Match object; span=(17, 27), match='i am fine!'>\n",
      "<_sre.SRE_Match object; span=(28, 36), match='and you,'>\n",
      "<_sre.SRE_Match object; span=(48, 60), match='i my affdyfd'>\n"
     ]
    }
   ],
   "source": [
    "txt = \"\"\"\n",
    "hi how are you.\n",
    "i am fine!\n",
    "and you,\n",
    "i my arud.\n",
    "i my affdyfd\"\"\"\n",
    "pattern = re.compile(r'.*[^.]$', flags = re.M)\n",
    "matches = re.finditer(pattern, txt)\n",
    "for match in matches:\n",
    "    print(match)"
   ]
  },
  {
   "cell_type": "code",
   "execution_count": 34,
   "metadata": {},
   "outputs": [
    {
     "data": {
      "text/plain": [
       "['Beautiful is better than ugly.',\n",
       " 'Explicit is better than implicit.',\n",
       " 'Simple is better than complex.',\n",
       " 'Complex is better than complicated.']"
      ]
     },
     "execution_count": 34,
     "metadata": {},
     "output_type": "execute_result"
    }
   ],
   "source": [
    "txt = \"\"\"Beautiful is better than ugly.\n",
    "Explicit is better than implicit.\n",
    "Simple is better than complex.\n",
    "Complex is better than complicated.\"\"\"\n",
    "pattern = re.compile(r'\\n')\n",
    "pattern.split(txt)\n"
   ]
  },
  {
   "cell_type": "code",
   "execution_count": 49,
   "metadata": {},
   "outputs": [
    {
     "data": {
      "text/plain": [
       "['Beautiful',\n",
       " 'is',\n",
       " 'better',\n",
       " 'than',\n",
       " 'ugly.',\n",
       " 'Explicit',\n",
       " 'is',\n",
       " 'better',\n",
       " 'than',\n",
       " 'implicit.',\n",
       " 'Simple',\n",
       " 'is',\n",
       " 'better',\n",
       " 'than',\n",
       " 'complex.',\n",
       " 'Complex',\n",
       " 'is',\n",
       " 'better',\n",
       " 'than',\n",
       " 'complicated.']"
      ]
     },
     "execution_count": 49,
     "metadata": {},
     "output_type": "execute_result"
    }
   ],
   "source": [
    "pattern = re.compile(r'\\s')\n",
    "pattern.split(txt)"
   ]
  },
  {
   "cell_type": "code",
   "execution_count": 51,
   "metadata": {},
   "outputs": [
    {
     "data": {
      "text/plain": [
       "'- cats, - dogs, - rabbits'"
      ]
     },
     "execution_count": 51,
     "metadata": {},
     "output_type": "execute_result"
    }
   ],
   "source": [
    "txt = \"100 cats, 23 dogs, 3 rabbits\"\n",
    "pattern = re.compile(r'\\d+')\n",
    "pattern.sub('-', txt)"
   ]
  },
  {
   "cell_type": "markdown",
   "metadata": {},
   "source": [
    "### GROUPING"
   ]
  },
  {
   "cell_type": "code",
   "execution_count": 52,
   "metadata": {},
   "outputs": [],
   "source": [
    "# Used for restricting part of regex.\n",
    "txt = \"\"\"\n",
    "my name is ram\n",
    "my name is sam\n",
    "\"\"\"\n",
    "pattern1 = re.compile(r'my name is ram|sam')   # it will match 'my name is ram' or 'sam'\n",
    "pattern2 = re.compile(r'my name is (ram|sam)') # it will match 'my name is ram' or 'my name is sam'\n"
   ]
  },
  {
   "cell_type": "code",
   "execution_count": 76,
   "metadata": {},
   "outputs": [
    {
     "name": "stdout",
     "output_type": "stream",
     "text": [
      "day is 12\n",
      "day is 15\n"
     ]
    }
   ],
   "source": [
    "txt = '12-02-2019, dfdfdf, 15-10-2019'\n",
    "pattern = re.compile(r'(\\d{2})-(\\d{2})-(\\d{4})')\n",
    "matches = re.finditer(pattern, txt)\n",
    "for match in matches:\n",
    "    day = match.group(1)\n",
    "    month = match.group(2)\n",
    "    year = match.group(3)\n",
    "    print(f'day is {day}')"
   ]
  },
  {
   "cell_type": "code",
   "execution_count": 73,
   "metadata": {},
   "outputs": [
    {
     "name": "stdout",
     "output_type": "stream",
     "text": [
      "Name : Nikhil\n",
      "Nikhil\n",
      "Name : Ravi\n",
      "Ravi\n",
      "Name : Ram\n",
      "Ram\n"
     ]
    }
   ],
   "source": [
    "txt = \"\"\"\n",
    "Name : Nikhil\n",
    "Age : 0\n",
    "Name : Ravi\n",
    "Age : -1\n",
    "Roll no : 123\n",
    "Name : Ram\n",
    "Age : n/a\n",
    "Roll no : 1\n",
    "\n",
    "\"\"\"\n",
    "pattern = re.compile(r'Name : (\\w+)')\n",
    "matches = re.finditer(pattern, txt)\n",
    "for match in matches:\n",
    "    print(match.group(0))\n",
    "    print(match.group(1))"
   ]
  },
  {
   "cell_type": "markdown",
   "metadata": {},
   "source": [
    "### Backreference"
   ]
  },
  {
   "cell_type": "code",
   "execution_count": 77,
   "metadata": {},
   "outputs": [
    {
     "name": "stdout",
     "output_type": "stream",
     "text": [
      "<_sre.SRE_Match object; span=(1, 12), match='hello hello'>\n",
      "<_sre.SRE_Match object; span=(25, 32), match='bye bye'>\n"
     ]
    }
   ],
   "source": [
    "txt = \"\"\"\n",
    "hello hello\n",
    "how are you\n",
    "bye bye\n",
    "\"\"\"\n",
    "pattern = re.compile(r'(\\w+) \\1')\n",
    "matches = re.finditer(pattern, txt)\n",
    "for match in matches:\n",
    "    print(match)"
   ]
  },
  {
   "cell_type": "code",
   "execution_count": 82,
   "metadata": {},
   "outputs": [
    {
     "name": "stdout",
     "output_type": "stream",
     "text": [
      "\n",
      "today is 2019-02-23\n",
      "yesterday was 2019-02-22\n",
      "tomorrow will 2019-02-24\n",
      "\n"
     ]
    }
   ],
   "source": [
    "txt = \"\"\"\n",
    "today is 23/02/2019\n",
    "yesterday was 22/02/2019\n",
    "tomorrow will 24/02/2019\n",
    "\"\"\"\n",
    "pattern = re.compile(r'(\\d{2})/(\\d{2})/(\\d{4})')\n",
    "new_txt = pattern.sub(r'\\3-\\2-\\1', txt)\n",
    "print(new_txt)"
   ]
  },
  {
   "cell_type": "markdown",
   "metadata": {},
   "source": [
    "### NAMED GROUP"
   ]
  },
  {
   "cell_type": "code",
   "execution_count": 86,
   "metadata": {},
   "outputs": [
    {
     "name": "stdout",
     "output_type": "stream",
     "text": [
      "Barak\n",
      "Obama\n"
     ]
    }
   ],
   "source": [
    "# inside compile synatx for assign name for group : (?P<name>....)\n",
    "\n",
    "txt = \"Barak Obama\"\n",
    "pattern = re.compile(r'(?P<first>\\w+)\\s(?P<last>\\w+)')\n",
    "matches = re.finditer(pattern, txt)\n",
    "for match in matches:\n",
    "    print(match.group('first'))\n",
    "    print(match.group('last'))"
   ]
  },
  {
   "cell_type": "code",
   "execution_count": 88,
   "metadata": {},
   "outputs": [
    {
     "data": {
      "text/plain": [
       "'Obama Barak'"
      ]
     },
     "execution_count": 88,
     "metadata": {},
     "output_type": "execute_result"
    }
   ],
   "source": [
    "# inside repl string of pattern operation.syntax for that r'\\g<name>'\n",
    "pattern.sub(r'\\g<last> \\g<first>', txt)"
   ]
  },
  {
   "cell_type": "code",
   "execution_count": 90,
   "metadata": {},
   "outputs": [
    {
     "name": "stdout",
     "output_type": "stream",
     "text": [
      "<_sre.SRE_Match object; span=(0, 9), match='Lara Lara'>\n"
     ]
    }
   ],
   "source": [
    "# for referencing inside compile syntax (?P=name)\n",
    "txt = \"Lara Lara\"\n",
    "pattern = re.compile(r'(?P<first>\\w+) (?P=first)')\n",
    "matches = re.finditer(pattern, txt)\n",
    "for match in matches:\n",
    "    print(match)"
   ]
  },
  {
   "cell_type": "markdown",
   "metadata": {},
   "source": [
    "### NON CAPTURING GROUPS"
   ]
  },
  {
   "cell_type": "code",
   "execution_count": 93,
   "metadata": {},
   "outputs": [
    {
     "data": {
      "text/plain": [
       "['i love cats', 'i love dogs']"
      ]
     },
     "execution_count": 93,
     "metadata": {},
     "output_type": "execute_result"
    }
   ],
   "source": [
    "# To make group non capturing in compile area syntax is (?:pattern)\n",
    "txt = \"\"\"\n",
    "i love cats\n",
    "i love dogs\n",
    "\"\"\"\n",
    "pattern = re.compile(r'i love (?:cats|dogs)')\n",
    "matches = re.findall(pattern, txt)\n",
    "matches"
   ]
  },
  {
   "cell_type": "markdown",
   "metadata": {},
   "source": [
    "### LOOK AHEAD AND BEHIND"
   ]
  },
  {
   "cell_type": "markdown",
   "metadata": {},
   "source": [
    "###   TWO TYPES: AHEAD AND BEHIND\n",
    "\n",
    "--->POSITIVE LOOK AHEAD SYNTAX : A(?=B) WHERE A IS ACTUAL EXPRESSION AND B IS EVALUTING EXPRESSION.                                     MATCH A EXPRESSION ONLY IF B EXPRESSION SUCCEEDS.\n",
    "                                       \n",
    "--->NEGATIVE LOOK AHEAD SYNTAX : A(?!B) WHERE A IS ACTUAL EXPRESSION AND B IS EVALUTING EXPRESSION.\n",
    "                                MATCH A EXPRESSION ONLY IF B EXPRESSION NOT SUCCEEDS.\n",
    "                                \n",
    "--->POSITIVE LOOK BEHIND SYNTAX : (?<=B)A WHERE A IS ACTUAL EXPRESSION AND B IS EVALUTING EXPRESSION.\n",
    "                                  MATCH A EXPRESSION ONLY IF B EXPRESSION PRECEEDS.\n",
    "                                  \n",
    "--->NEGATIVE LOOK BEHIND SYNTAX : (?<!B)A WHER A IS ACTUAL EXPRESSION AND B IS EVALUATING EXPRESSION.\n",
    "                                    MATCH A EXPRESSION ONLY IF B EXPRESSION NOT PRECEEDS."
   ]
  },
  {
   "cell_type": "code",
   "execution_count": 5,
   "metadata": {},
   "outputs": [
    {
     "data": {
      "text/plain": [
       "<_sre.SRE_Match object; span=(17, 21), match='love'>"
      ]
     },
     "execution_count": 5,
     "metadata": {},
     "output_type": "execute_result"
    }
   ],
   "source": [
    "txt = \"i love python, i love regex\"\n",
    "pattern = re.compile(r'love(?=\\sregex)')\n",
    "pattern.search(txt)"
   ]
  },
  {
   "cell_type": "code",
   "execution_count": 4,
   "metadata": {},
   "outputs": [
    {
     "data": {
      "text/plain": [
       "<_sre.SRE_Match object; span=(17, 21), match='love'>"
      ]
     },
     "execution_count": 4,
     "metadata": {},
     "output_type": "execute_result"
    }
   ],
   "source": [
    "pattern.search(txt)"
   ]
  },
  {
   "cell_type": "code",
   "execution_count": 6,
   "metadata": {},
   "outputs": [
    {
     "data": {
      "text/plain": [
       "['red', 'green', 'blue']"
      ]
     },
     "execution_count": 6,
     "metadata": {},
     "output_type": "execute_result"
    }
   ],
   "source": [
    "txt = \"my favorite colors are red, green, and blue.\"\n",
    "pattern = re.compile(r'\\w+(?=\\.|,)')\n",
    "pattern.findall(txt)"
   ]
  },
  {
   "cell_type": "code",
   "execution_count": 9,
   "metadata": {},
   "outputs": [
    {
     "data": {
      "text/plain": [
       "<_sre.SRE_Match object; span=(2, 6), match='love'>"
      ]
     },
     "execution_count": 9,
     "metadata": {},
     "output_type": "execute_result"
    }
   ],
   "source": [
    "txt = \"i love python, i love regex\"\n",
    "pattern = re.compile(r'love(?!\\sregex)')\n",
    "pattern.search(txt)"
   ]
  },
  {
   "cell_type": "code",
   "execution_count": 14,
   "metadata": {},
   "outputs": [
    {
     "name": "stdout",
     "output_type": "stream",
     "text": [
      "<_sre.SRE_Match object; span=(5, 10), match='regex'>\n",
      "<_sre.SRE_Match object; span=(19, 24), match='regex'>\n"
     ]
    }
   ],
   "source": [
    "txt = \"love regex or hate regex, can't ignore regex\"\n",
    "pattern = re.compile(r'(?<=(love|hate)\\s)regex')\n",
    "matches = re.finditer(pattern, txt)\n",
    "for match in matches:\n",
    "    print(match)"
   ]
  },
  {
   "cell_type": "code",
   "execution_count": 15,
   "metadata": {},
   "outputs": [
    {
     "name": "stdout",
     "output_type": "stream",
     "text": [
      "<_sre.SRE_Match object; span=(39, 44), match='regex'>\n"
     ]
    }
   ],
   "source": [
    "txt = \"love regex or hate regex, can't ignore regex\"\n",
    "pattern = re.compile(r'(?<!(love|hate)\\s)regex')\n",
    "matches = re.finditer(pattern, txt)\n",
    "for match in matches:\n",
    "    print(match)"
   ]
  },
  {
   "cell_type": "code",
   "execution_count": null,
   "metadata": {},
   "outputs": [],
   "source": []
  }
 ],
 "metadata": {
  "kernelspec": {
   "display_name": "Python 3",
   "language": "python",
   "name": "python3"
  },
  "language_info": {
   "codemirror_mode": {
    "name": "ipython",
    "version": 3
   },
   "file_extension": ".py",
   "mimetype": "text/x-python",
   "name": "python",
   "nbconvert_exporter": "python",
   "pygments_lexer": "ipython3",
   "version": "3.6.5"
  }
 },
 "nbformat": 4,
 "nbformat_minor": 2
}
