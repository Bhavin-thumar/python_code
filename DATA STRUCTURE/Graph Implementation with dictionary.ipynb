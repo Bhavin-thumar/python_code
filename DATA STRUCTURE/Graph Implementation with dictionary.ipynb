{
 "cells": [
  {
   "cell_type": "code",
   "execution_count": 62,
   "metadata": {},
   "outputs": [],
   "source": [
    "class Graph:\n",
    "    \n",
    "    def __init__(self):\n",
    "        self.adj_dict = {}\n",
    "        \n",
    "    def add_edge(self, u, v, directed=False):\n",
    "#         if self.is_edge(u, v):\n",
    "#             print(\"Edge already present\")\n",
    "        if u in self.adj_dict:\n",
    "            if v in self.adj_dict[u]:\n",
    "                print(\"Edge already present\")\n",
    "                \n",
    "        else:\n",
    "            self.add_vertex(u)\n",
    "        \n",
    "        self.adj_dict[u].append(v)\n",
    "        \n",
    "        if not directed and not self._loop(u, v):\n",
    "        \n",
    "            self.add_vertex(v)\n",
    "            self.adj_dict[v].append(u)\n",
    "            \n",
    "    def add_vertex(self, vertice):\n",
    "        if vertice in self.adj_dict:\n",
    "            return \"Vertex already present\"\n",
    "        else:\n",
    "            self.adj_dict[vertice] = []\n",
    "            \n",
    "    def _loop(self, u, v):\n",
    "        return u == v\n",
    "        \n",
    "    def degree(self, vertice):\n",
    "        return len(self.adj_dict[vertice])\n",
    "    \n",
    "    def is_edge(self, u, v):\n",
    "        return v in self.adj_dict[u]\n",
    "        \n",
    "    def _print(self):\n",
    "        for k,v in self.adj_dict.items():\n",
    "            print(k,'--->',v)\n",
    "        \n",
    "    def __str__(self):\n",
    "        return f'{self._print()}'\n",
    "    \n",
    "    def get_level(self, start, end):\n",
    "        result, level = self.bfs(start)\n",
    "        return level[end]\n",
    "    \n",
    "    def bfs(self, start_vertex):\n",
    "        queue, visited, result, level = [], [], [], {}\n",
    "        queue.append(start_vertex)\n",
    "        visited.append(start_vertex)\n",
    "        level[start_vertex] = 0\n",
    "        while queue:\n",
    "            vertex = queue.pop(0)\n",
    "            result.append(vertex)\n",
    "            neighbors = self.adj_dict[vertex]\n",
    "            while neighbors:\n",
    "                n = neighbors.pop(0)\n",
    "                if n not in visited:\n",
    "                    level[n] = level[vertex] + 1\n",
    "                    visited.append(n)\n",
    "                    queue.append(n)\n",
    "                    \n",
    "        return result, level\n",
    "    \n",
    "    def dfs(self, vertex, visited=None):\n",
    "        if not visited:\n",
    "            visited = [vertex]\n",
    "        edges = self.adj_dict[vertex]\n",
    "        for edge in edges:\n",
    "            if edge not in visited:\n",
    "                visited.append(edge)\n",
    "                self.dfs(edge, visited)\n",
    "                \n",
    "        return visited\n",
    "    \n",
    "    def dfs_stack(self, vertex):\n",
    "        stack, visited_ = [], []\n",
    "        stack.append(vertex)\n",
    "        while stack:\n",
    "\n",
    "            vertex = stack.pop()\n",
    "            if vertex not in visited_:\n",
    "                visited_.append(vertex)\n",
    "                \n",
    "            edges = self.adj_dict[vertex]\n",
    "            for edge in reversed(edges):\n",
    "                if edge not in visited_:\n",
    "                    stack.append(edge)\n",
    "                    \n",
    "        return visited_\n"
   ]
  },
  {
   "cell_type": "code",
   "execution_count": 63,
   "metadata": {},
   "outputs": [
    {
     "name": "stdout",
     "output_type": "stream",
     "text": [
      "B ---> ['A', 'C']\n",
      "A ---> ['B', 'D']\n",
      "C ---> ['B']\n",
      "D ---> ['A', 'E', 'F']\n",
      "E ---> ['D', 'F', 'G']\n",
      "F ---> ['D', 'E', 'H']\n",
      "G ---> ['E', 'H']\n",
      "H ---> ['G', 'F']\n",
      "None\n"
     ]
    }
   ],
   "source": [
    "g = Graph()\n",
    "g.add_edge(\"B\", 'A')\n",
    "g.add_edge(\"B\", 'C')\n",
    "g.add_edge(\"A\", 'D')\n",
    "g.add_edge(\"D\", 'E')\n",
    "g.add_edge(\"D\", 'F')\n",
    "g.add_edge(\"E\", 'F')\n",
    "g.add_edge(\"E\", 'G')\n",
    "g.add_edge(\"H\", 'G')\n",
    "g.add_edge(\"F\", 'H')\n",
    "# g.add_edge(\"A\", \"A\")\n",
    "print(g)"
   ]
  },
  {
   "cell_type": "code",
   "execution_count": 15,
   "metadata": {},
   "outputs": [],
   "source": [
    "result, level = g.bfs(\"D\")"
   ]
  },
  {
   "cell_type": "code",
   "execution_count": 16,
   "metadata": {},
   "outputs": [
    {
     "data": {
      "text/plain": [
       "['D', 'A', 'E', 'F', 'B', 'G', 'H', 'C']"
      ]
     },
     "execution_count": 16,
     "metadata": {},
     "output_type": "execute_result"
    }
   ],
   "source": [
    "result"
   ]
  },
  {
   "cell_type": "code",
   "execution_count": 22,
   "metadata": {},
   "outputs": [
    {
     "data": {
      "text/plain": [
       "['D', 'A', 'B', 'C', 'E', 'F', 'H', 'G']"
      ]
     },
     "execution_count": 22,
     "metadata": {},
     "output_type": "execute_result"
    }
   ],
   "source": [
    "g.dfs(\"D\")"
   ]
  },
  {
   "cell_type": "code",
   "execution_count": 10,
   "metadata": {},
   "outputs": [
    {
     "data": {
      "text/plain": [
       "['D', 'A', 'B', 'C', 'E', 'F', 'H', 'G']"
      ]
     },
     "execution_count": 10,
     "metadata": {},
     "output_type": "execute_result"
    }
   ],
   "source": [
    "g.dfs(\"D\")"
   ]
  },
  {
   "cell_type": "code",
   "execution_count": 64,
   "metadata": {},
   "outputs": [
    {
     "name": "stdout",
     "output_type": "stream",
     "text": [
      "['D'] []\n",
      "['F', 'E', 'A'] ['D']\n",
      "['F', 'E', 'B'] ['D', 'A']\n",
      "['F', 'E', 'C'] ['D', 'A', 'B']\n",
      "['F', 'E'] ['D', 'A', 'B', 'C']\n",
      "['F', 'G', 'F'] ['D', 'A', 'B', 'C', 'E']\n",
      "['F', 'G', 'H'] ['D', 'A', 'B', 'C', 'E', 'F']\n",
      "['F', 'G', 'G'] ['D', 'A', 'B', 'C', 'E', 'F', 'H']\n",
      "['F', 'G'] ['D', 'A', 'B', 'C', 'E', 'F', 'H', 'G']\n",
      "['F'] ['D', 'A', 'B', 'C', 'E', 'F', 'H', 'G']\n"
     ]
    },
    {
     "data": {
      "text/plain": [
       "['D', 'A', 'B', 'C', 'E', 'F', 'H', 'G']"
      ]
     },
     "execution_count": 64,
     "metadata": {},
     "output_type": "execute_result"
    }
   ],
   "source": [
    "g.dfs_stack(\"D\")"
   ]
  },
  {
   "cell_type": "code",
   "execution_count": null,
   "metadata": {},
   "outputs": [],
   "source": []
  }
 ],
 "metadata": {
  "kernelspec": {
   "display_name": "Python 3",
   "language": "python",
   "name": "python3"
  },
  "language_info": {
   "codemirror_mode": {
    "name": "ipython",
    "version": 3
   },
   "file_extension": ".py",
   "mimetype": "text/x-python",
   "name": "python",
   "nbconvert_exporter": "python",
   "pygments_lexer": "ipython3",
   "version": "3.6.5"
  }
 },
 "nbformat": 4,
 "nbformat_minor": 2
}
